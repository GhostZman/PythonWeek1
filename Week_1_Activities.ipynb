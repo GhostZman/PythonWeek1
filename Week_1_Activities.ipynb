{
 "cells": [
  {
   "cell_type": "markdown",
   "metadata": {},
   "source": [
    "# Week 1 Activities\n",
    "\n",
    "This notebook contains activities to practice the basics of Python:\n",
    "- Printing messages with `print()`\n",
    "- Storing and using variables\n",
    "- Getting user input with `input()`\n"
   ]
  },
  {
   "cell_type": "markdown",
   "metadata": {},
   "source": [
    "## 1. Complete the Message\n",
    "The following code is incomplete. Add the missing parts so that it works correctly.\n",
    "\n",
    "### Example 1:\n",
    "```python\n",
    "print(\"Hello, \" + name + \"!\")\n",
    "```\n",
    "Complete this code by defining a variable called `name` before the print statement. Set the variable to your name.\n"
   ]
  },
  {
   "cell_type": "code",
   "execution_count": null,
   "metadata": {},
   "outputs": [],
   "source": [
    "# Complete the code below:\n",
    "# Define a variable for the name\n",
    "\n",
    "print(\"Hello, \" + name + \"!\")"
   ]
  },
  {
   "cell_type": "markdown",
   "metadata": {},
   "source": [
    "### Example 2:\n",
    "Fix the following code so it works as intended:\n",
    "```python\n",
    "message = 'Welcome to coding class!\n",
    "print(message\n",
    "```\n"
   ]
  },
  {
   "cell_type": "code",
   "execution_count": null,
   "metadata": {},
   "outputs": [],
   "source": [
    "# Correct the syntax error in the code:\n",
    "message = 'Welcome to coding class!\n",
    "print(message\n"
   ]
  },
  {
   "cell_type": "markdown",
   "metadata": {},
   "source": [
    "## 2. What Does This Code Do?\n",
    "Below is a small piece of code. Before running it, write down what you think will happen when it runs.\n",
    "\n",
    "### Example 1:\n",
    "```python\n",
    "greeting = \"Hi there!\"\n",
    "print(greeting)\n",
    "```\n",
    "\n",
    "Run the code to check your answer.\n"
   ]
  },
  {
   "cell_type": "code",
   "execution_count": null,
   "metadata": {},
   "outputs": [],
   "source": [
    "# What do you think this code will do?\n",
    "greeting = \"Hi there!\"\n",
    "print(greeting)"
   ]
  },
  {
   "cell_type": "markdown",
   "metadata": {},
   "source": [
    "## 3. Find and Fix the Problem\n",
    "The following code has a mistake. Find the problem and fix it.\n",
    "\n",
    "### Example 1:\n",
    "```python\n",
    "name = \"Alex\"\n",
    "print(\"Hello \" + Name + \"!\")\n",
    "```\n",
    "\n",
    "Hint: Check the variable names carefully!\n"
   ]
  },
  {
   "cell_type": "code",
   "execution_count": null,
   "metadata": {},
   "outputs": [],
   "source": [
    "# Fix the code below:\n",
    "name = \"Alex\"\n",
    "print(\"Hello \" + Name + \"!\")"
   ]
  },
  {
   "cell_type": "markdown",
   "metadata": {},
   "source": [
    "### Example 2:\n",
    "```python\n",
    "age = input(\"How old are you?\")\n",
    "print(\"You are \" + age + \" years old\")\n",
    "```\n",
    "\n",
    "Fix the code so that the age input is treated as a number, not text.\n"
   ]
  },
  {
   "cell_type": "code",
   "execution_count": null,
   "metadata": {},
   "outputs": [],
   "source": [
    "# Fix the code below:\n",
    "age = input(\"How old are you?\")\n",
    "print(\"You are \" + age + \" years old\")"
   ]
  },
  {
   "cell_type": "markdown",
   "metadata": {},
   "source": [
    "## 4. Make This Your Own\n",
    "Use the code below as a starting point. Change it to ask the user for their favorite color, then print a message using their answer.\n",
    "\n",
    "### Example:\n",
    "```python\n",
    "name = input(\"What is your name?\")\n",
    "print(\"Hi, \" + name + \"!\")\n",
    "```\n"
   ]
  },
  {
   "cell_type": "code",
   "execution_count": null,
   "metadata": {},
   "outputs": [],
   "source": [
    "# Modify this code to ask about a favorite color instead:\n",
    "name = input(\"What is your name?\")\n",
    "print(\"Hi, \" + name + \"!\")"
   ]
  },
  {
   "cell_type": "markdown",
   "metadata": {},
   "source": [
    "## 5. Try This Challenge\n",
    "Write a program from scratch that asks the user for their name and age, then prints a message like this:\n",
    "\n",
    "**\"Hi, [Name]! You are [Age] years old.\"**\n"
   ]
  },
  {
   "cell_type": "code",
   "execution_count": null,
   "metadata": {},
   "outputs": [],
   "source": [
    "# Write your code below:\n",
    "# Hint: You'll need to use input() twice, and combine text and variables in the print statement.\n"
   ]
  }
 ],
 "metadata": {
  "kernelspec": {
   "display_name": "Python 3",
   "language": "python",
   "name": "python3"
  },
  "language_info": {
   "codemirror_mode": {
    "name": "ipython",
    "version": 3
   },
   "file_extension": ".py",
   "mimetype": "text/x-python",
   "name": "python",
   "nbconvert_exporter": "python",
   "pygments_lexer": "ipython3",
   "version": "3.8.5"
  }
 },
 "nbformat": 4,
 "nbformat_minor": 4
}
