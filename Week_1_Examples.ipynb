{
 "cells": [
  {
   "cell_type": "markdown",
   "metadata": {},
   "source": [
    "# Week 1 Examples\n",
    "\n",
    "Welcome to Python! This notebook contains examples to help you get started with the basics: using `print()` and `input()`."
   ]
  },
  {
   "cell_type": "markdown",
   "metadata": {
    "vscode": {
     "languageId": "plaintext"
    }
   },
   "source": [
    "## Example 1: Using `print()`\n",
    "\n",
    "The `print()` function lets us display messages or information.\n",
    "\n",
    "### Syntax:\n",
    "\n",
    "```python\n",
    "print(value)\n",
    "```\n",
    "- `value` can be text (enclosed in quotes), numbers or variables.\n",
    "\n",
    "### Example:\n",
    "\n",
    "```python\n",
    "print(\"Hello, world!\")\n",
    "```"
   ]
  },
  {
   "cell_type": "code",
   "execution_count": null,
   "metadata": {},
   "outputs": [],
   "source": [
    "# Try running this cell to see what happens!\n",
    "print(\"Hello, world!\")"
   ]
  },
  {
   "cell_type": "markdown",
   "metadata": {},
   "source": [
    "## Example 2: Variables\n",
    "\n",
    "Variables allow you to store information that you can use later in your code.\n",
    "\n",
    "### Syntax:\n",
    "\n",
    "```python\n",
    "variable_name = value\n",
    "```\n",
    "- `variable_name` is the name you give to your variable.\n",
    "- `value` is the information you want to store (like text, numbers, or other data).\n",
    "\n",
    "### Example:\n",
    "\n",
    "```python\n",
    "name = \"Zachary\"\n",
    "age = 22\n",
    "print(name)\n",
    "print(age)\n",
    "```"
   ]
  },
  {
   "cell_type": "code",
   "execution_count": null,
   "metadata": {},
   "outputs": [],
   "source": [
    "# Try running this cell to store and print variables!\n",
    "name = \"Zachary\"\n",
    "age = 22\n",
    "print(name)\n",
    "print(age)"
   ]
  },
  {
   "cell_type": "markdown",
   "metadata": {},
   "source": [
    "## Example 3: Using `input()`\n",
    "\n",
    "The `input()` function allows us to get information from the user.\n",
    "\n",
    "### Syntax\n",
    "\n",
    "```python\n",
    "variable_name = input(prompt)\n",
    "```\n",
    "- `prompt` is the text displayed to the user asking them to input something.\n",
    "- The user’s response is stored in the variable.\n",
    "\n",
    "### Example:\n",
    "\n",
    "```python\n",
    "name = input(\"What is your name? \")\n",
    "\n",
    "print(\"Hello, \" + name + \"!\")\n",
    "```"
   ]
  },
  {
   "cell_type": "code",
   "execution_count": null,
   "metadata": {},
   "outputs": [],
   "source": [
    "# Try running this cell to input your name and print a message!\n",
    "name = input(\"What is your name? \")\n",
    "\n",
    "print(\"Hello, \" + name + \"!\")"
   ]
  },
  {
   "cell_type": "markdown",
   "metadata": {},
   "source": [
    "Use the following cells to experiment with `print()`, variables, and `input()`.\n",
    "\n",
    "When you are ready, go to the activities notebook and try some."
   ]
  },
  {
   "cell_type": "code",
   "execution_count": null,
   "metadata": {},
   "outputs": [],
   "source": []
  },
  {
   "cell_type": "code",
   "execution_count": null,
   "metadata": {},
   "outputs": [],
   "source": []
  },
  {
   "cell_type": "code",
   "execution_count": null,
   "metadata": {},
   "outputs": [],
   "source": []
  }
 ],
 "metadata": {
  "language_info": {
   "name": "python"
  }
 },
 "nbformat": 4,
 "nbformat_minor": 2
}
